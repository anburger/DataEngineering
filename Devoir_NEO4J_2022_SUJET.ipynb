{
 "cells": [
  {
   "cell_type": "markdown",
   "id": "b996a0de-37da-4429-9833-819413e5e8a6",
   "metadata": {},
   "source": [
    "# DEVOIR NEO4J"
   ]
  },
  {
   "cell_type": "markdown",
   "id": "c84250a7-2a92-4652-bd2a-d81cbac2006a",
   "metadata": {},
   "source": [
    "Vous disposez d'une application qui gère les notes associées aux films. Le modéle retenu est graphe avec la modélisation suivante : "
   ]
  },
  {
   "attachments": {
    "f26dd7ab-8f73-4e60-ab65-f6dd51e7f20a.png": {
     "image/png": "[encoded data removed]"
    }
   },
   "cell_type": "markdown",
   "id": "fc3cb67c-40d2-4971-a46c-0b89379701f3",
   "metadata": {},
   "source": [
    "![image.png](attachment:f26dd7ab-8f73-4e60-ab65-f6dd51e7f20a.png)"
   ]
  },
  {
   "cell_type": "markdown",
   "id": "938d7d1a-4156-40de-8690-f7e9a2da6901",
   "metadata": {},
   "source": [
    "Il y a trois types de nœuds :\n",
    "* User : décrit un utilisateur et contient les attributs suivants :\n",
    "    * o id : int, sex : string, age : int, occupation : string, zip code : int\n",
    "* Movie : représente un film et contient les attributs suivants :\n",
    "    * o id : int, title : string, date : int\n",
    "* Genre : fait référence au genre d’un film et contient les attributs suivants :\n",
    "    * o id : int, name : string\n",
    "\n",
    "Le jeu de données exploite également trois types de relations :\n",
    "* RATED : spécifie la note qu’a laissée un utilisateur à propos d’un film ; contient les attributs suivants :\n",
    "    * o note : int, timestamp : int\n",
    "* FRIEND_OF: représente un lien d’amitié entre deux utilisateurs.\n",
    "* CATEGORIZED_AS : permet d’assigner un genre à un film.\n",
    "\n"
   ]
  },
  {
   "cell_type": "markdown",
   "id": "69b5618e-e0cc-4e1c-bec3-16d89b858ae2",
   "metadata": {},
   "source": [
    "## Pré-requis"
   ]
  },
  {
   "cell_type": "markdown",
   "id": "99f5fac9-bcde-4727-bd1d-e624c98a2bb1",
   "metadata": {},
   "source": [
    "Démarrer Neo4J"
   ]
  },
  {
   "cell_type": "raw",
   "id": "1d4258f8-dc38-441f-940e-ff76a923d365",
   "metadata": {},
   "source": [
    "docker start Neo4j"
   ]
  },
  {
   "cell_type": "markdown",
   "id": "b5d9df1b-def6-4283-baec-fbea1b1e03b7",
   "metadata": {},
   "source": [
    "Connectez vous à Neo4J : \n",
    "\n",
    "http://127.0.0.1:7474/browser/"
   ]
  },
  {
   "cell_type": "markdown",
   "id": "ddeb32ae-063a-4a29-b674-1cdf5d85658b",
   "metadata": {},
   "source": [
    "Supprimer l'ensemble des noeuds et des relations contenu dans votre base de données Neo4J :"
   ]
  },
  {
   "cell_type": "raw",
   "id": "72c731aa-af5d-4bf4-aa30-828e8911a82e",
   "metadata": {},
   "source": [
    "match(n) detach delete n"
   ]
  },
  {
   "cell_type": "markdown",
   "id": "d8436d8b-71cd-4963-9a3c-8c7053e65b64",
   "metadata": {},
   "source": [
    "Lancer les commandes suivantes pour charger le jeu de données dans Neo4J :"
   ]
  },
  {
   "cell_type": "raw",
   "id": "273df821-f699-4839-8fb7-156399affe14",
   "metadata": {},
   "source": [
    "LOAD CSV WITH HEADERS FROM\n",
    "'http://camillepradel.fr/teaching/nosql/movielens_export/users.csv' AS users\n",
    "CREATE (u:User {id : toInteger(users.id), sex : users.sex, age : toInteger(users.age),\n",
    "occupation : users.occupation, zip_code : users.zip_code});"
   ]
  },
  {
   "cell_type": "raw",
   "id": "f86e5c12-55cb-4b5b-9104-370c1455da8f",
   "metadata": {},
   "source": [
    "LOAD CSV WITH HEADERS FROM\n",
    "'http://camillepradel.fr/teaching/nosql/movielens_export/users.csv' AS users\n",
    "CREATE (u:User {id : toInteger(users.id), sex : users.sex, age : toInteger(users.age),\n",
    "occupation : users.occupation, zip_code : users.zip_code});"
   ]
  },
  {
   "cell_type": "raw",
   "id": "7b5f349c-6bd0-4d4e-bfe7-51cfd0bee3a0",
   "metadata": {},
   "source": [
    "LOAD CSV WITH HEADERS FROM\n",
    "'http://camillepradel.fr/teaching/nosql/movielens_export/movies.csv' AS movies\n",
    "CREATE (m:Movie {id : toInteger(movies.id), title : movies.title, date :\n",
    "toInteger(movies.date)});"
   ]
  },
  {
   "cell_type": "raw",
   "id": "25bcc99b-20e3-4652-85c0-58e416ed87b5",
   "metadata": {},
   "source": [
    "LOAD CSV WITH HEADERS FROM\n",
    "'http://camillepradel.fr/teaching/nosql/movielens_export/genres.csv' AS genres\n",
    "CREATE (u:Genre {id : toInteger(genres.id), name : genres.name});"
   ]
  },
  {
   "cell_type": "raw",
   "id": "5b654a48-40de-4763-ad11-ce58ad15762b",
   "metadata": {},
   "source": [
    "\n",
    "LOAD CSV WITH HEADERS FROM\n",
    "'http://camillepradel.fr/teaching/nosql/movielens_export/mov_genre.csv' AS mov_genre\n",
    "MERGE (m : Movie { id : toInteger(mov_genre.mov_id) })\n",
    "MERGE (g : Genre { id : toInteger(mov_genre.genre) })\n",
    "CREATE (m)-[:CATEGORIZED_AS]->(g);"
   ]
  },
  {
   "cell_type": "raw",
   "id": "50464119-c17c-45e6-aaa4-4661010db9a2",
   "metadata": {},
   "source": [
    "LOAD CSV WITH HEADERS FROM\n",
    "'http://camillepradel.fr/teaching/nosql/movielens_export/ratings.csv' AS ratings\n",
    "MERGE (u : User { id : toInteger(ratings.user_id) })\n",
    "MERGE (m : Movie { id : toInteger(ratings.mov_id) })\n",
    "CREATE (u)-[:RATED { note : toInteger(ratings.rating), timestamp :\n",
    "toInteger(ratings.timestamp) } ]->(m);"
   ]
  },
  {
   "cell_type": "raw",
   "id": "f40a12fb-48f0-4f00-9c22-3a42858af03a",
   "metadata": {},
   "source": [
    "LOAD CSV WITH HEADERS FROM\n",
    "'http://camillepradel.fr/teaching/nosql/movielens_export/friends.csv' AS friends\n",
    "MERGE (u1:User { id : toInteger(friends.user1_id) })\n",
    "MERGE (u2:User { id : toInteger(friends.user2_id) })\n",
    "CREATE (u1)-[:FRIEND_OF]->(u2);"
   ]
  },
  {
   "cell_type": "markdown",
   "id": "ded41550-f684-4e42-b7e5-90b91cd1e565",
   "metadata": {},
   "source": [
    "La requête Cypher suivante permet d’extraire un sous-graphe du jeu de données (l’ensemble des éléments liés à l’utilisateur qui a pour id la valeur 1. Exécutez-là dans le Browser Neo4j"
   ]
  },
  {
   "cell_type": "raw",
   "id": "208385d8-0b33-4808-b0c7-43c1e822fca5",
   "metadata": {},
   "source": [
    "MATCH (u1:User {id:1})-[:RATED]->(m:Movie)-[:CATEGORIZED_AS]->(g:Genre),\n",
    "(u1)-[:FRIEND_OF]->(un:User)\n",
    "RETURN *\n",
    "LIMIT 50"
   ]
  },
  {
   "cell_type": "markdown",
   "id": "92d05c09-4e56-4875-b917-5de7ae04113a",
   "metadata": {},
   "source": [
    "# Questions "
   ]
  },
  {
   "cell_type": "markdown",
   "id": "4a2ca502-3e56-40c9-b14e-20bafe404b7e",
   "metadata": {},
   "source": [
    "(1 pt) Q1 - Combien y a-t-il d’utilisateurs dans la base de données ? \n",
    "\n",
    "https://neo4j.com/docs/cypher-manual/current/functions/aggregating/#_counting_with_and_without_duplicates"
   ]
  },
  {
   "cell_type": "raw",
   "id": "fe15da14-ea1e-4b8a-8f23-ebe9a7e50c40",
   "metadata": {},
   "source": [
    "MATCH(u:User) return  count(DISTINCT u.id), count(u.id);\n",
    "#The database has 200 users"
   ]
  },
  {
   "cell_type": "markdown",
   "id": "98b711e4-9d3c-40a3-8aa9-dc59f710c757",
   "metadata": {},
   "source": [
    "(1 pt) Q2 - Quel est l’âge, le sexe et l'occupation de l’utilisateur dont l'identifiant id a pour valeur 1 ?  "
   ]
  },
  {
   "cell_type": "raw",
   "id": "3eb3a566-ec8e-4879-a817-efe06e96fdfe",
   "metadata": {},
   "source": [
    "Match(u:User) WHERE u.id=1 return u.age, u.sex, u.occupation;\n",
    "#Age: 24, sex: M, occupation: technician"
   ]
  },
  {
   "cell_type": "markdown",
   "id": "93377a96-a34f-448a-b454-4351ef285af7",
   "metadata": {},
   "source": [
    "(1 pt) Q3 - Quelles sont les différentes valeurs d' occupations associée à un utilisateur ? "
   ]
  },
  {
   "cell_type": "raw",
   "id": "3e319819-a8f0-48ea-a9c4-e3085c26acc1",
   "metadata": {},
   "source": [
    "#All different possible occupations which appear in the database\n",
    "Match(u:User) return u.occupation;\n",
    "#technician, other, writer, executive, admistrator, student, lawyer, educator, entertainment, programmer, etc.\n",
    "#Number of different occupation ==> 21\n",
    "Match(u:User) return count(DISTINCT u.occupation);\n",
    "Match(u:User) return collect(u.occupation);\n",
    "#[\"technician\", \"other\", \"writer\", \"technician\", \"other\", \"executive\", \"administrator\", \"administrator\", \"student\", \"lawyer\", \"other\", \"other\", \"educator\", \"scientist\", \"educator\", \"entertainment\", \"programmer\", \"other\", \"librarian\", \"homemaker\", \"writer\", \"writer\", \"artist\", \"artist\", \"engineer\", \"engineer\", \"librarian\", \"writer\", \"programmer\", \"student\", \"artist\", \"student\", \"student\", \"administrator\", \"homemaker\", \"student\", \"student\", \"other\", \"entertainment\", \"scientist\", \"engineer\", \"administrator\", \"librarian\", \"technician\", \"programmer\", \"marketing\", \"marketing\", \"administrator\", \"student\", \"writer\", \"educator\", \"student\", \"programmer\", \"executive\", \"programmer\", \"librarian\", \"none\", \"programmer\", \"educator\", \"healthcare\", \"engineer\", \"administrator\", \"marketing\", \"educator\", \"educator\", \"student\", \"student\", \"student\", \"engineer\", \"engineer\", \"scientist\", \"administrator\", \"student\", \"scientist\", \"entertainment\", \"student\", \"technician\", \"administrator\", \"administrator\", \"administrator\", \"student\", \"programmer\", \"other\", \"executive\", \"educator\", \"administrator\", \"administrator\", \"librarian\", \"administrator\", \"educator\", \"marketing\", \"entertainment\", \"executive\", \"student\", \"administrator\", \"artist\", \"artist\", \"executive\", \"student\", \"executive\", \"student\", \"programmer\", \"student\", \"student\", \"engineer\", \"retired\", \"scientist\", \"educator\", \"other\", \"student\", \"engineer\", \"salesman\", \"executive\", \"programmer\", \"engineer\", \"healthcare\", \"student\", \"administrator\", \"programmer\", \"other\", \"librarian\", \"writer\", \"artist\", \"student\", \"lawyer\", \"lawyer\", \"none\", \"marketing\", \"marketing\", \"none\", \"administrator\", \"other\", \"engineer\", \"programmer\", \"student\", \"other\", \"educator\", \"doctor\", \"student\", \"student\", \"programmer\", \"other\", \"technician\", \"programmer\", \"entertainment\", \"artist\", \"librarian\", \"engineer\", \"marketing\", \"artist\", \"administrator\", \"educator\", \"student\", \"student\", \"other\", \"educator\", \"engineer\", \"educator\", \"student\", \"programmer\", \"lawyer\", \"artist\", \"administrator\", \"healthcare\", \"other\", \"educator\", \"other\", \"other\", \"other\", \"healthcare\", \"educator\", \"marketing\", \"other\", \"administrator\", \"scientist\", \"scientist\", \"programmer\", \"other\", \"entertainment\", \"administrator\", \"executive\", \"programmer\", \"scientist\", \"librarian\", \"librarian\", \"executive\", \"educator\", \"student\", \"artist\", \"administrator\", \"administrator\", \"educator\", \"student\", \"administrator\", \"scientist\", \"writer\", \"technician\", \"student\", \"writer\", \"programmer\"]"
   ]
  },
  {
   "cell_type": "markdown",
   "id": "ff9124a9-0c39-4022-abf9-09144fad5e16",
   "metadata": {},
   "source": [
    "(1 pt) Q4 - Parmi les utilisateurs(User) quelles sont les 5 occupations les plus populaires ? (1 pt)"
   ]
  },
  {
   "cell_type": "raw",
   "id": "87dfa993-ec8f-4764-87f6-8eeed5adeedc",
   "metadata": {},
   "source": [
    "Match(u:User) return u.occupation, count(*) as occurences ORDER BY occurences DESC\n",
    "#Pick the first five: student, administrator, other, educator, programmer"
   ]
  },
  {
   "cell_type": "markdown",
   "id": "20b7d16b-c4af-4665-887a-f4d87222180f",
   "metadata": {},
   "source": [
    "(1 pt) Q5 - Compter le nombre d'arc par type ?"
   ]
  },
  {
   "cell_type": "raw",
   "id": "361a0d29-0893-4a56-a7a8-875ea737f5a0",
   "metadata": {},
   "source": [
    "Match ()-[r:CATEGORIZED_AS]-() return count(r)  #1668\n",
    "Match ()-[r:FRIEND_OF]-() return count(r) #1600\n",
    "Match ()-[r:RATED]-() return count(r) #45240"
   ]
  },
  {
   "cell_type": "markdown",
   "id": "86f04db3-0b7b-4d7f-a5f5-c595afaeac57",
   "metadata": {},
   "source": [
    "(1 pt) Q6 - Lister les films notés au dessus de 4 par l'utilisateur dont l'id égale 1  ? "
   ]
  },
  {
   "cell_type": "raw",
   "id": "825c14eb-cb3c-45e9-84ed-147805df9cea",
   "metadata": {},
   "source": [
    "MATCH (u:User)-[r:RATED]->(mv:Movie) WHERE u.id=1 and r.note>=4 return mv.title "
   ]
  },
  {
   "cell_type": "markdown",
   "id": "2340ca73-a6f1-4859-830c-05eebcf4c8f5",
   "metadata": {},
   "source": [
    "(2 pts) Q7 - Quelle est la note moyenne du film \"Braveheart (1995)\" ? "
   ]
  },
  {
   "cell_type": "raw",
   "id": "3062668f-c1df-4790-a5a7-8314ef34e293",
   "metadata": {},
   "source": [
    "MATCH (mv:Movie)-[r:RATED]-() WHERE mv.title = 'Braveheart (1995)'\n",
    "RETURN avg(r.note);\n",
    "#4.26923076923077"
   ]
  },
  {
   "cell_type": "markdown",
   "id": "1afe8a12-263e-4580-8af0-8f3710ba8b65",
   "metadata": {
    "tags": []
   },
   "source": [
    "(3 pts) Q8 - Quels sont les titres des films dont la note moyenne dépasse 4 ? \n",
    " \n",
    "Indice : utiliser la clause \" with \"\n",
    "https://neo4j.com/docs/cypher-manual/current/clauses/with/"
   ]
  },
  {
   "cell_type": "raw",
   "id": "bb17fd95-2878-4e1e-894a-a337568c8146",
   "metadata": {},
   "source": [
    "MATCH (mv:Movie)-[r:RATED]-() WITH mv, avg(r.note) AS aver WHERE aver >=4\n",
    "RETURN mv.title;"
   ]
  },
  {
   "cell_type": "markdown",
   "id": "46af7bfb-d4be-4acc-86a7-e50414adde62",
   "metadata": {},
   "source": [
    "(2 pts) Q9 - Quel film est le mieux noté parmi le genre Crime ?"
   ]
  },
  {
   "cell_type": "raw",
   "id": "225688e7-0fcc-4016-8806-6fdb6888798c",
   "metadata": {},
   "source": [
    "Match ()-[r:RATED]->(mv:Movie)-[:CATEGORIZED_AS]->(g:Genre) WHERE g.name = 'Crime' WITH mv,g, avg(r.note) AS avgnote  return avgnote, mv.title order by avgnote DESC;\n",
    "#\"Incognito (1997)\""
   ]
  },
  {
   "cell_type": "markdown",
   "id": "8bd02f65-a4f1-4b02-9194-56ceabeb0c06",
   "metadata": {},
   "source": [
    "(1 pts) Q10 - Créer un utilisateur vous répresentant ?"
   ]
  },
  {
   "cell_type": "raw",
   "id": "35fb4472-b6a0-426f-8994-c1a7b4bef611",
   "metadata": {},
   "source": [
    "create(u:User { id: 201, sex: 'F', age:33, occupation: 'scientist', zip_code: '63400'}) return u;"
   ]
  },
  {
   "cell_type": "markdown",
   "id": "35bded98-5d12-44c1-8edf-46e5aa7fa6f4",
   "metadata": {
    "tags": []
   },
   "source": [
    "(1 pts) Q11 - Créer une relation FRIEND_OF entre vous et les utilisateurs 1, 132  et 724  :"
   ]
  },
  {
   "cell_type": "raw",
   "id": "3dbca782-22c9-4947-8b48-e28876ef12b0",
   "metadata": {},
   "source": [
    "Match(u1:User),(u2:User) WHERE u1.id=1 AND u2.id=201 CREATE (u1)-[r:FRIEND_OF { id: u1.id + '<->' + u2.id}]->(u2) Return u1;\n",
    "Match(u1:User),(u2:User) WHERE u1.id=132 AND u2.id=201 CREATE (u1)-[r:FRIEND_OF { id: u1.id + '<->' + u2.id}]->(u2) Return u1;\n",
    "Match(u1:User),(u2:User) WHERE u1.id=132 AND u2.id=724 CREATE (u1)-[r:FRIEND_OF { id: u1.id + '<->' + u2.id}]->(u2) Return u1; #No changes, u.id=724 does not exist"
   ]
  },
  {
   "cell_type": "markdown",
   "id": "9d851ae5-7c35-464e-859a-7210f7cf11a5",
   "metadata": {},
   "source": [
    "(1 pt) Q12 - Selectionner tous les amis de l'utilisateur dont l'id est 1 : "
   ]
  },
  {
   "cell_type": "raw",
   "id": "fe41c84d-7b34-4a96-bc5e-e9bdc4832ab3",
   "metadata": {},
   "source": [
    " Match(u:User)-[r:FRIEND_OF]-(u2:User) WHERE u.id=1 return u2.id"
   ]
  },
  {
   "cell_type": "markdown",
   "id": "18931ca3-2ed8-445a-9165-6daadb09c1c8",
   "metadata": {},
   "source": [
    "(2 pts) Q13 - Lister les films commun notés entre l'utilisateur id=1 et ses amis ? "
   ]
  },
  {
   "cell_type": "raw",
   "id": "dc9bad84-8afc-4c00-888e-08de4b2681d4",
   "metadata": {},
   "source": [
    "Match (mv1:Movie)<-[r1:RATED]-(u1:User {id: 1})-[f:FRIEND_OF]->(u2:User)-[r2:RATED]->(mv2:Movie) WITH mv2, mv1.id as mvs WHERE mv2.id in mvs return DISTINCT mv2.title"
   ]
  },
  {
   "cell_type": "markdown",
   "id": "107143bb-e862-40dd-8658-d65f81268431",
   "metadata": {},
   "source": [
    "(3pts) Q14 - Recommander aux amis de l'utilisateur id=1 des films qu'ils n'ont pas noté et qui ont été appréciés par l'utilisateur id=1  ?\n",
    "On définira les films appréciés tous les films notés au dessus de 4.\n"
   ]
  },
  {
   "cell_type": "raw",
   "id": "163feef3-5be4-4789-8e05-cf10687f0057",
   "metadata": {},
   "source": [
    "Match (mv1:Movie)<-[r1:RATED]-(u1:User {id: 1})-[f:FRIEND_OF]->(u2:User)-[r2:RATED]->(mv2:Movie) WITH mv2,r1,mv1,mv1.id as mvs WHERE r1.note >= 4 AND NOT mv2.id IN mvs return mv1.id"
   ]
  },
  {
   "cell_type": "markdown",
   "id": "24aa5c05-78a9-45af-9f89-ea5da937d989",
   "metadata": {},
   "source": [
    "(2 pts) Q15 -D'aprés vous, les arcs FRIEND_OF sont ils bien implémentés, expliquez pourquoi ? "
   ]
  },
  {
   "cell_type": "raw",
   "id": "84468ca4-1782-413b-a48c-9793e6dd200a",
   "metadata": {},
   "source": [
    "The arcs FRIEND_OF are uni-directional, if u1 is a friend of u2, both, u1-friend->u2 and u2-friend->u1 is implemented. \"FRIEND_OF\" is always a bidirectional property. However, that way, a relationship chain can be followed in any possible direction."
   ]
  },
  {
   "cell_type": "markdown",
   "id": "b799a7e3-701b-494c-83cd-3ddd89aedb19",
   "metadata": {},
   "source": [
    "(3 pts) Q16 - En prenant en compte la remarque précédente, identifier les amis et les amis des amis de l’utilisateur dont l'identifiant est 1 ?\n",
    "Expliquer votre raisonnement "
   ]
  },
  {
   "cell_type": "raw",
   "id": "6475aaa4-cdc6-4f85-a6f2-8c3570f904b1",
   "metadata": {},
   "source": [
    "Match (u1:User {id: 1})<-[f1:FRIEND_OF]->(u2:User)<-[f2:FRIEND_OF]->(u3:User)  Return u2.id, u3.id"
   ]
  },
  {
   "cell_type": "markdown",
   "id": "97b06895-8ead-4749-a7e5-1711e7ff85a2",
   "metadata": {},
   "source": [
    "(4 pts) Q17 - Proposer pour la question Q13, une solution pour résoudre l'anomalie et appliquer celle-ci au graphe entier ?"
   ]
  },
  {
   "cell_type": "raw",
   "id": "96220e07-7571-498f-9ca0-3841b8c84b40",
   "metadata": {},
   "source": []
  },
  {
   "cell_type": "markdown",
   "id": "a35291da-d691-4479-8568-c67d70242458",
   "metadata": {},
   "source": [
    "(4 pts) Q18 - Suite à vos conseils en Q12, les amis de l'utilisateurs 1 ont regardé et ont donné la note de 4 à tous films appréciés par l'utilisateur id:1. Modifier le graphe, afin d'intégrer les notes des amis de l'utilisateur 1 :\n"
   ]
  },
  {
   "cell_type": "raw",
   "id": "82b2309e-e1b1-467d-8a3c-dd929f24e6bc",
   "metadata": {},
   "source": [
    "Match (mv1:Movie)<-[r1:RATED]-(u1:User {id: 1})-[f:FRIEND_OF]->(u2:User)-[r2:RATED]->(mv2:Movie) WITH mv2,r1,mv1,mv1.id as mvs WHERE r1.note >= 4 AND NOT mv2.id IN mvs CREATE (u2)-[r3:RATED {note: 4}]->(mv2) return r3.note  "
   ]
  },
  {
   "cell_type": "markdown",
   "id": "91d3b2b0-3720-4890-b2c8-69f4f8961247",
   "metadata": {},
   "source": [
    "(6 pts) Q19 - A partir des requêtes précédentes, la base de données orientée graphe est elle mieux adaptée qu'une base de données orientée clé-valeur ou document ?\n",
    "justifiez votre réponse ?"
   ]
  },
  {
   "cell_type": "raw",
   "id": "0aeb8b3a-cd35-42e9-b122-4830d60400c6",
   "metadata": {},
   "source": [
    "Key-value based databases contain unique assignments of a key to a value. It is not flexible to display relations and decisions have to be taken. For instance, one can define a movie m as key and as value all the users who rated the movie m. But then, the relations between users cannot be displayed. In document-oriented databases, all properties can relations can be entered, but it is difficult to follow relations. In this example, each user and movie can be a document and all relations can be entered as properties. In principle, the same operations can be done as in a graph-based database but it is much more cumbersome to implement and to call properties/follow relations."
   ]
  }
 ],
 "metadata": {
  "kernelspec": {
   "display_name": "Python 3 (ipykernel)",
   "language": "python",
   "name": "python3"
  },
  "language_info": {
   "codemirror_mode": {
    "name": "ipython",
    "version": 3
   },
   "file_extension": ".py",
   "mimetype": "text/x-python",
   "name": "python",
   "nbconvert_exporter": "python",
   "pygments_lexer": "ipython3",
   "version": "3.7.10"
  }
 },
 "nbformat": 4,
 "nbformat_minor": 5
}
